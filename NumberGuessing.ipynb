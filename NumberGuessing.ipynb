{
 "cells": [
  {
   "cell_type": "code",
   "execution_count": null,
   "metadata": {},
   "outputs": [
    {
     "name": "stdout",
     "output_type": "stream",
     "text": [
      "Enter the lower limit: 1\n",
      "Enter the upper limit: 10\n",
      "You have 3 chances.......\n",
      "Guess a number: 3\n",
      "Your guess was too small\n",
      "Guess a number: 6\n",
      "Your guess was too large\n"
     ]
    }
   ],
   "source": [
    "import random\n",
    "import math\n",
    "\n",
    "lower = int(input(\"Enter the lower limit: \"))\n",
    "upper = int(input(\"Enter the upper limit: \"))\n",
    "\n",
    "n = random.randint(lower,upper)\n",
    "\n",
    "print(\"You have\",round(math.log(upper-lower+1,2)),\"chances.......\")\n",
    "count=0\n",
    "\n",
    "while count<math.log(upper-lower+1,2):\n",
    "    count+=1\n",
    "    guessed_number = int(input(\"Guess a number: \"))\n",
    "    \n",
    "    if guessed_number==n:\n",
    "        print(\"You guessed correctly\")\n",
    "    elif guessed_number<n:\n",
    "        print(\"Your guess was too small\")\n",
    "    elif guessed_number>n:\n",
    "        print(\"Your guess was too large\")\n",
    "    \n",
    "if count>=math.log(upper-lower+1,2):\n",
    "    print(\"You have exceded the number of chances. Your number was\",n)"
   ]
  },
  {
   "cell_type": "code",
   "execution_count": null,
   "metadata": {},
   "outputs": [],
   "source": []
  }
 ],
 "metadata": {
  "kernelspec": {
   "display_name": "Python 3",
   "language": "python",
   "name": "python3"
  },
  "language_info": {
   "codemirror_mode": {
    "name": "ipython",
    "version": 3
   },
   "file_extension": ".py",
   "mimetype": "text/x-python",
   "name": "python",
   "nbconvert_exporter": "python",
   "pygments_lexer": "ipython3",
   "version": "3.8.5"
  }
 },
 "nbformat": 4,
 "nbformat_minor": 4
}
