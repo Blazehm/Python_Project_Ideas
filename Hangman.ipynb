{
 "cells": [
  {
   "cell_type": "code",
   "execution_count": 7,
   "metadata": {},
   "outputs": [
    {
     "name": "stdout",
     "output_type": "stream",
     "text": [
      "Guess a 3 letter word.\n",
      "You have 3 tries left......\n",
      "Guess a letter; b\n",
      "_ _ _ You have 2 tries left......\n",
      "Guess a letter; s\n",
      "s _ _ You have 1 tries left......\n",
      "Guess a letter; i\n",
      "_ i _ "
     ]
    }
   ],
   "source": [
    "import random\n",
    "import math\n",
    "\n",
    "wordlist=['bat','sit','key','lip'];\n",
    "string_index = random.randint(0,len(wordlist)-1)\n",
    "\n",
    "string = wordlist[string_index]\n",
    "print(\"Guess a\",len(wordlist[string_index]),\"letter word.\")\n",
    "\n",
    "tries = round(math.log(len(wordlist[string_index])))\n",
    "#print(tries)\n",
    "if(tries<3):\n",
    "    tries=3\n",
    "counter = tries \n",
    "correctcounter = 0\n",
    "\n",
    "for i in range(0,tries):\n",
    "    print(\"You have\",counter,\"tries left......\")\n",
    "    c=input(\"Guess a letter; \")\n",
    "    for j in string:\n",
    "        if c==j:\n",
    "            print(c,end=\" \")\n",
    "            correctcounter+=1\n",
    "        else: \n",
    "            print(\"_\",end=\" \")\n",
    "    counter-=1\n",
    "\n",
    "if correctcounter==len(string):\n",
    "    print(\"\\nYou have guessed corrdctly!\")\n"
   ]
  },
  {
   "cell_type": "code",
   "execution_count": null,
   "metadata": {},
   "outputs": [],
   "source": []
  },
  {
   "cell_type": "code",
   "execution_count": null,
   "metadata": {},
   "outputs": [],
   "source": []
  }
 ],
 "metadata": {
  "kernelspec": {
   "display_name": "Python 3",
   "language": "python",
   "name": "python3"
  },
  "language_info": {
   "codemirror_mode": {
    "name": "ipython",
    "version": 3
   },
   "file_extension": ".py",
   "mimetype": "text/x-python",
   "name": "python",
   "nbconvert_exporter": "python",
   "pygments_lexer": "ipython3",
   "version": "3.8.5"
  }
 },
 "nbformat": 4,
 "nbformat_minor": 4
}
