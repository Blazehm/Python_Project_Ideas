{
 "cells": [
  {
   "cell_type": "code",
   "execution_count": 2,
   "metadata": {},
   "outputs": [
    {
     "name": "stdout",
     "output_type": "stream",
     "text": [
      "1\n",
      "Roll again?(1/0)1\n",
      "3\n",
      "Roll again?(1/0)3\n"
     ]
    }
   ],
   "source": [
    "import random\n",
    "\n",
    "rollagain=1\n",
    "while int(rollagain)==1:\n",
    "    print(random.randint(1,6))\n",
    "    rollagain = input(\"Roll again?(1/0)\")\n",
    "\n",
    "if rollagain==0\n",
    "    print(\"Program terminated\")\n",
    "else\n",
    "    print(\"\")"
   ]
  },
  {
   "cell_type": "code",
   "execution_count": null,
   "metadata": {},
   "outputs": [],
   "source": []
  },
  {
   "cell_type": "code",
   "execution_count": null,
   "metadata": {},
   "outputs": [],
   "source": []
  }
 ],
 "metadata": {
  "kernelspec": {
   "display_name": "Python 3",
   "language": "python",
   "name": "python3"
  },
  "language_info": {
   "codemirror_mode": {
    "name": "ipython",
    "version": 3
   },
   "file_extension": ".py",
   "mimetype": "text/x-python",
   "name": "python",
   "nbconvert_exporter": "python",
   "pygments_lexer": "ipython3",
   "version": "3.8.5"
  }
 },
 "nbformat": 4,
 "nbformat_minor": 4
}
