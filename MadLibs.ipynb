{
 "cells": [
  {
   "cell_type": "code",
   "execution_count": 6,
   "metadata": {},
   "outputs": [
    {
     "name": "stdout",
     "output_type": "stream",
     "text": [
      "Enter an adjective: big\n",
      "Enter a noun: foot\n",
      "Enter a verb in past tense: ran\n",
      "Enter an adverb: quickly\n",
      "Enter an adjective: loud\n",
      "Enter a noun: television\n",
      "Enter a noun: chair\n",
      "Enter an adjective: dark\n",
      "Enter a verb: fall\n",
      "Enter an adverb: swiftly\n",
      "Enter a verb in past tense: jumped\n",
      "Enter an adjective: fat\n",
      "\n",
      "__generating the funny__\n",
      "\n",
      "Today I went to the zoo. I saw a(n) big foot\n",
      "jumping up and down in its tree.\n",
      "He ran quickly\n",
      "through the large tunnel that led to its loud television . \n",
      "I got some peanuts and passed them through the cage to a gigantic gray chair\n",
      "towering above my head. Feeding that animal made me hungry. I went to get a dark\n",
      "scoop of ice cream. It filled my stomach. Afterwards I had to fall swiftly\n",
      "to catch our bus. When I got home I jumped\n",
      "my mom for a fat day at the zoo. \n"
     ]
    }
   ],
   "source": [
    "blank1 = input(\"Enter an adjective: \")\n",
    "blank2 = input(\"Enter a noun: \")\n",
    "blank3 = input(\"Enter a verb in past tense: \")\n",
    "blank4 = input(\"Enter an adverb: \")\n",
    "blank5 = input(\"Enter an adjective: \")\n",
    "blank6 = input(\"Enter a noun: \")\n",
    "blank7 = input(\"Enter a noun: \")\n",
    "blank8 = input(\"Enter an adjective: \")\n",
    "blank9 = input(\"Enter a verb: \")\n",
    "blank10 = input(\"Enter an adverb: \")\n",
    "blank11 = input(\"Enter a verb in past tense: \")\n",
    "blank12 = input(\"Enter an adjective: \")\n",
    "\n",
    "print(\"\\n__generating the funny__\\n\")\n",
    "\n",
    "print(\"Today I went to the zoo. I saw a(n)\",blank1,blank2)\n",
    "print(\"jumping up and down in its tree.\")\n",
    "print(\"He\",blank3,blank4)\n",
    "print(\"through the large tunnel that led to its\",blank5,blank6,\". \")\n",
    "print(\"I got some peanuts and passed them through the cage to a gigantic gray\",blank7)\n",
    "print(\"towering above my head. Feeding that animal made me hungry. I went to get a\",blank8)\n",
    "print(\"scoop of ice cream. It filled my stomach. Afterwards I had to\",blank9,blank10)\n",
    "print(\"to catch our bus. When I got home I\",blank11)\n",
    "print(\"my mom for a\",blank12,\"day at the zoo. \")"
   ]
  },
  {
   "cell_type": "code",
   "execution_count": null,
   "metadata": {},
   "outputs": [],
   "source": []
  },
  {
   "cell_type": "code",
   "execution_count": null,
   "metadata": {},
   "outputs": [],
   "source": []
  }
 ],
 "metadata": {
  "kernelspec": {
   "display_name": "Python 3",
   "language": "python",
   "name": "python3"
  },
  "language_info": {
   "codemirror_mode": {
    "name": "ipython",
    "version": 3
   },
   "file_extension": ".py",
   "mimetype": "text/x-python",
   "name": "python",
   "nbconvert_exporter": "python",
   "pygments_lexer": "ipython3",
   "version": "3.8.5"
  }
 },
 "nbformat": 4,
 "nbformat_minor": 4
}
